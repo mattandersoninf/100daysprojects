{
 "cells": [
  {
   "cell_type": "markdown",
   "metadata": {},
   "source": [
    "Regular Expressions"
   ]
  },
  {
   "cell_type": "code",
   "execution_count": 1,
   "metadata": {},
   "outputs": [],
   "source": [
    "\"\"\"\n",
    "Step 1: Import re library\n",
    "\"\"\"\n",
    "\n",
    "import re"
   ]
  },
  {
   "cell_type": "code",
   "execution_count": 2,
   "metadata": {},
   "outputs": [
    {
     "data": {
      "text/plain": [
       "True"
      ]
     },
     "execution_count": 2,
     "metadata": {},
     "output_type": "execute_result"
    }
   ],
   "source": [
    "\"\"\"\n",
    "You don't need regular expressions for standard string manipulations\n",
    "perfect examples include\n",
    "\"\"\"\n",
    "\n",
    "text = \"Awesome, #100 days of code\"\n",
    "text.startswith('Awesome')\n"
   ]
  },
  {
   "cell_type": "code",
   "execution_count": 3,
   "metadata": {},
   "outputs": [
    {
     "data": {
      "text/plain": [
       "True"
      ]
     },
     "execution_count": 3,
     "metadata": {},
     "output_type": "execute_result"
    }
   ],
   "source": [
    "\n",
    "text.endswith('code')\n"
   ]
  },
  {
   "cell_type": "code",
   "execution_count": 5,
   "metadata": {},
   "outputs": [
    {
     "data": {
      "text/plain": [
       "<_sre.SRE_Match object; span=(24, 33), match='challenge'>"
      ]
     },
     "execution_count": 5,
     "metadata": {},
     "output_type": "execute_result"
    }
   ],
   "source": [
    "\"\"\"\n",
    "Now let's run regular expressions.\n",
    "\"\"\"\n",
    "\n",
    "text = 'Awesome, #100DaysOfCode challenge'\n",
    "\n",
    "re.search(r'challenge', text)"
   ]
  },
  {
   "cell_type": "code",
   "execution_count": 3,
   "metadata": {},
   "outputs": [
    {
     "data": {
      "text/plain": [
       "<_sre.SRE_Match object; span=(0, 33), match='Awesome, #100DaysOfCode challenge'>"
      ]
     },
     "execution_count": 3,
     "metadata": {},
     "output_type": "execute_result"
    }
   ],
   "source": [
    "\"\"\"\n",
    "This part will fail because we need to match the portion the whole string in it's context when using the match function\n",
    "but reg strings have a solution for those as well.\n",
    "\"\"\"\n",
    "import re\n",
    "\n",
    "text = 'Awesome, #100DaysOfCode challenge'\n",
    "\n",
    "re.match(r'Awesome.*challenge', text)"
   ]
  },
  {
   "cell_type": "markdown",
   "metadata": {},
   "source": [
    "Try doing a few more complex functions from re"
   ]
  },
  {
   "cell_type": "code",
   "execution_count": 1,
   "metadata": {},
   "outputs": [],
   "source": [
    "import re\n",
    "\n",
    "movies = ['1. Avengers, Infinity War Part 1 (2018)',\n",
    "          '2. Deadpool 2 (2018)',\n",
    "          '3. Solo (2018)',\n",
    "          '4. Star Wars: The Last Jedi (2015)',             # before I continue writing this, if you can't tell already, I'm a nerd lol\n",
    "          '5. Hereditary (2018)',\n",
    "          '6. The Godfather (1972)',\n",
    "          \"7. Schindler's List (1993)\"\n",
    "         ]\n"
   ]
  },
  {
   "cell_type": "code",
   "execution_count": 2,
   "metadata": {},
   "outputs": [],
   "source": [
    "pat = re.compile(r'''\n",
    "                   ^               # start of string \n",
    "                   \\d+             # one or more digits\n",
    "                   \\.              # a literal dot\n",
    "                   \\s+             # one or more spaces\n",
    "                   (?:             # non-capturing parenthesis, so I don't want to store this match in \n",
    "                   [A-Za-z']+\\s    # character class (note: inclusion of ' for \"Schindler's\"), followed by a space \n",
    "                   )               # closing a non-capturing parenthesis\n",
    "                   {2}             # exactly 2 of the previously grouped subpattern\n",
    "                   \\(              # literal opening parenthesis\n",
    "                   \\d{4}           # exactly 4 digits (year)\n",
    "                   \\)              # literal closing parenthesis\n",
    "                   $               # end of string\n",
    "                   ''', re.VERBOSE)        "
   ]
  },
  {
   "cell_type": "code",
   "execution_count": 3,
   "metadata": {},
   "outputs": [
    {
     "name": "stdout",
     "output_type": "stream",
     "text": [
      "1. Avengers, Infinity War Part 1 (2018) None\n",
      "2. Deadpool 2 (2018) None\n",
      "3. Solo (2018) None\n",
      "4. Star Wars: The Last Jedi (2015) None\n",
      "5. Hereditary (2018) None\n",
      "6. The Godfather (1972) <_sre.SRE_Match object; span=(0, 23), match='6. The Godfather (1972)'>\n",
      "7. Schindler's List (1993) <_sre.SRE_Match object; span=(0, 26), match=\"7. Schindler's List (1993)\">\n"
     ]
    }
   ],
   "source": [
    "for movie in movies:\n",
    "    print(movie, pat.match(movie))\n",
    "    # the god father works but I need to resolve the apostrophe issue in schndler's list"
   ]
  },
  {
   "cell_type": "code",
   "execution_count": null,
   "metadata": {},
   "outputs": [],
   "source": []
  }
 ],
 "metadata": {
  "kernelspec": {
   "display_name": "Python 3",
   "language": "python",
   "name": "python3"
  },
  "language_info": {
   "codemirror_mode": {
    "name": "ipython",
    "version": 3
   },
   "file_extension": ".py",
   "mimetype": "text/x-python",
   "name": "python",
   "nbconvert_exporter": "python",
   "pygments_lexer": "ipython3",
   "version": "3.6.4"
  }
 },
 "nbformat": 4,
 "nbformat_minor": 2
}
