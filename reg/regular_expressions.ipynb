{
 "cells": [
  {
   "cell_type": "markdown",
   "metadata": {},
   "source": [
    "Regular Expressions"
   ]
  },
  {
   "cell_type": "code",
   "execution_count": 1,
   "metadata": {},
   "outputs": [],
   "source": [
    "\"\"\"\n",
    "Step 1: Import re library\n",
    "\"\"\"\n",
    "\n",
    "import re"
   ]
  },
  {
   "cell_type": "code",
   "execution_count": 2,
   "metadata": {},
   "outputs": [
    {
     "data": {
      "text/plain": [
       "True"
      ]
     },
     "execution_count": 2,
     "metadata": {},
     "output_type": "execute_result"
    }
   ],
   "source": [
    "\"\"\"\n",
    "You don't need regular expressions for standard string manipulations\n",
    "perfect examples include\n",
    "\"\"\"\n",
    "\n",
    "text = \"Awesome, #100 days of code\"\n",
    "text.startswith('Awesome')\n"
   ]
  },
  {
   "cell_type": "code",
   "execution_count": 3,
   "metadata": {},
   "outputs": [
    {
     "data": {
      "text/plain": [
       "True"
      ]
     },
     "execution_count": 3,
     "metadata": {},
     "output_type": "execute_result"
    }
   ],
   "source": [
    "\n",
    "text.endswith('code')\n"
   ]
  },
  {
   "cell_type": "code",
   "execution_count": 5,
   "metadata": {},
   "outputs": [
    {
     "data": {
      "text/plain": [
       "<_sre.SRE_Match object; span=(24, 33), match='challenge'>"
      ]
     },
     "execution_count": 5,
     "metadata": {},
     "output_type": "execute_result"
    }
   ],
   "source": [
    "\"\"\"\n",
    "Now let's run regular expressions.\n",
    "\"\"\"\n",
    "\n",
    "text = 'Awesome, #100DaysOfCode challenge'\n",
    "\n",
    "re.search(r'challenge', text)"
   ]
  },
  {
   "cell_type": "code",
   "execution_count": 3,
   "metadata": {},
   "outputs": [
    {
     "data": {
      "text/plain": [
       "<_sre.SRE_Match object; span=(0, 33), match='Awesome, #100DaysOfCode challenge'>"
      ]
     },
     "execution_count": 3,
     "metadata": {},
     "output_type": "execute_result"
    }
   ],
   "source": [
    "\"\"\"\n",
    "This part will fail because we need to match the portion the whole string in it's context when using the match function\n",
    "but reg strings have a solution for those as well.\n",
    "\"\"\"\n",
    "import re\n",
    "\n",
    "text = 'Awesome, #100DaysOfCode challenge'\n",
    "\n",
    "re.match(r'Awesome.*challenge', text)"
   ]
  },
  {
   "cell_type": "markdown",
   "metadata": {},
   "source": [
    "Try doing a few more complex functions from re"
   ]
  },
  {
   "cell_type": "code",
   "execution_count": 1,
   "metadata": {},
   "outputs": [],
   "source": [
    "import re\n",
    "\n",
    "movies = ['Avengers, Infinity War Part 1 (2018)',\n",
    "          'Deadpool 2 (2018)',\n",
    "          'Solo (2018)',\n",
    "          'Star Wars: The Last Jedi (2015)',             # before I continue writing this, if you can't tell already, I'm a nerd lol\n",
    "          'Hereditary',\n",
    "          \"Schindler's List\"\n",
    "         ]\n"
   ]
  },
  {
   "cell_type": "code",
   "execution_count": null,
   "metadata": {},
   "outputs": [],
   "source": [
    "pat = re.compile(r'''\n",
    "                   ^        # start of string \n",
    "                   \\d+      # one or more digits''')"
   ]
  }
 ],
 "metadata": {
  "kernelspec": {
   "display_name": "Python 3",
   "language": "python",
   "name": "python3"
  },
  "language_info": {
   "codemirror_mode": {
    "name": "ipython",
    "version": 3
   },
   "file_extension": ".py",
   "mimetype": "text/x-python",
   "name": "python",
   "nbconvert_exporter": "python",
   "pygments_lexer": "ipython3",
   "version": "3.6.4"
  }
 },
 "nbformat": 4,
 "nbformat_minor": 2
}
