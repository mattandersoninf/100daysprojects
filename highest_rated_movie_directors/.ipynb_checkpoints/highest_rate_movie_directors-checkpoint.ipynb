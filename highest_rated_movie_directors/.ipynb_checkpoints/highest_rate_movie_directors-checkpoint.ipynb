{
 "cells": [
  {
   "cell_type": "markdown",
   "metadata": {},
   "source": [
    "# Highest Rated Movie Directors"
   ]
  },
  {
   "cell_type": "code",
   "execution_count": 1,
   "metadata": {},
   "outputs": [
    {
     "data": {
      "text/plain": [
       "('movies.csv', <http.client.HTTPMessage at 0x10a061668>)"
      ]
     },
     "execution_count": 1,
     "metadata": {},
     "output_type": "execute_result"
    }
   ],
   "source": [
    "# get the information from the csv file\n",
    "# class import for grabbing the data from the hosts url\n",
    "from urllib import request\n",
    "\n",
    "dataset_path = \"https://raw.githubusercontent.com/sundeepblue/movie_rating_prediction/master/movie_metadata.csv\"\n",
    "dataset_csv = \"movies.csv\"\n",
    "request.urlretrieve(dataset_path, dataset_csv)"
   ]
  },
  {
   "cell_type": "code",
   "execution_count": 2,
   "metadata": {},
   "outputs": [],
   "source": [
    "# make a custom namedtuple\n",
    "# grab collections class for namedtuple\n",
    "from collections import namedtuple\n",
    "\n",
    "movie = namedtuple('movie', 'title year score')"
   ]
  },
  {
   "cell_type": "code",
   "execution_count": 3,
   "metadata": {},
   "outputs": [],
   "source": [
    "# parse data from csv\n",
    "\n",
    "import csv\n",
    "from collections import defaultdict\n",
    "def get_movies_by_director(data=dataset_csv):\n",
    "    # create the defaultdict object for the directors\n",
    "    directors = defaultdict(list)\n",
    "    # allow python to open the file to grab data\n",
    "    with open(data) as f:\n",
    "        # csvDictReader for grabbing and interpretting data from csv\n",
    "        for line in csv.DictReader(f):\n",
    "            # grab the data based on how it is structured in the csv and is interpreted by python\n",
    "            try:\n",
    "                director = line['director_name']\n",
    "                title = line['movie_title'].replace('\\xa0','')\n",
    "                year = int(line['title_year'])\n",
    "                score = float(line['imdb_score'])\n",
    "            # in case you read an empty line, just continue on so that python doesn't break and complain\n",
    "            except ValueError:\n",
    "                continue\n",
    "            \n",
    "            m = movie(title=title,year=year,score=score)\n",
    "            directors[director].append(m)\n",
    "            \n",
    "    return directors"
   ]
  },
  {
   "cell_type": "code",
   "execution_count": 4,
   "metadata": {},
   "outputs": [],
   "source": [
    "# use the function to extract the information\n",
    "directors = get_movies_by_director()"
   ]
  },
  {
   "cell_type": "code",
   "execution_count": 8,
   "metadata": {},
   "outputs": [
    {
     "data": {
      "text/plain": [
       "[('Steven Spielberg', 26),\n",
       " ('Woody Allen', 22),\n",
       " ('Martin Scorsese', 20),\n",
       " ('Clint Eastwood', 20),\n",
       " ('Ridley Scott', 17)]"
      ]
     },
     "execution_count": 8,
     "metadata": {},
     "output_type": "execute_result"
    }
   ],
   "source": [
    "# display information collected organized by the the number of movie by each director\n",
    "# similar to SQL \"order by\" command\n",
    "from collections import Counter\n",
    "count = Counter()\n",
    "for director, movies in directors.items():\n",
    "    count[director] += len(movies)\n",
    "\n",
    "# display 5 directors with the most movies in the defaultdict\n",
    "count.most_common(5)"
   ]
  },
  {
   "cell_type": "code",
   "execution_count": null,
   "metadata": {},
   "outputs": [],
   "source": []
  }
 ],
 "metadata": {
  "kernelspec": {
   "display_name": "Python 3",
   "language": "python",
   "name": "python3"
  },
  "language_info": {
   "codemirror_mode": {
    "name": "ipython",
    "version": 3
   },
   "file_extension": ".py",
   "mimetype": "text/x-python",
   "name": "python",
   "nbconvert_exporter": "python",
   "pygments_lexer": "ipython3",
   "version": "3.6.4"
  }
 },
 "nbformat": 4,
 "nbformat_minor": 2
}
